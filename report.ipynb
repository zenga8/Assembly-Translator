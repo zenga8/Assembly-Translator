{
 "cells": [
  {
   "cell_type": "markdown",
   "id": "d0f21658-40c8-40c9-99d2-ec8c0b42e84f",
   "metadata": {},
   "source": [
    "# Assembly Lab"
   ]
  },
  {
   "cell_type": "markdown",
   "id": "f9ffdec9-9fcb-4a7b-910e-abecc6352210",
   "metadata": {},
   "source": [
    "- Authors:\n",
    "  - Angela Zeng, zenga8@mcmaster.ca\n",
    "  - Emma Wigglesworth, wigglee@mcmaster.ca\n",
    "- Group ID on Avenue: 50\n",
    "- Gitlab URL: https://gitlab.cas.mcmaster.ca/zenga8/l3-assembly"
   ]
  },
  {
   "cell_type": "markdown",
   "id": "da6b2461",
   "metadata": {},
   "source": [
    "# F1: Global Variables and First Visits"
   ]
  },
  {
   "cell_type": "code",
   "execution_count": null,
   "id": "a2d245a6",
   "metadata": {},
   "outputs": [],
   "source": [
    "# add_sub.py\n",
    "\n",
    "         BR      program\n",
    "value:   .BLOCK  2\n",
    "UNIV:    .WORD   42\n",
    "result:  .BLOCK  2\n",
    "program: DECI    value,d\n",
    "         LDWA    UNIV,d\n",
    "         ADDA    value,d\n",
    "         SUBA    3,i\n",
    "         SUBA    1,i\n",
    "         STWA    result,d \n",
    "         DECO    result,d\n",
    "         .END"
   ]
  },
  {
   "cell_type": "code",
   "execution_count": null,
   "id": "7ec214f5",
   "metadata": {},
   "outputs": [],
   "source": [
    "# simple.py \n",
    "         BR      program\n",
    "x:       .BLOCK  2\n",
    "program: LDWA    3, i\n",
    "         ADDA    2, i\n",
    "         STWA    x, d\n",
    "         DECO    x, d\n",
    "         .END"
   ]
  },
  {
   "cell_type": "markdown",
   "id": "7050f9aa",
   "metadata": {},
   "source": [
    "**Explain in natural language what is the definition of a “global variable” in theseprograms.**\n",
    "\n",
    "A global variables are static pieces of data. This means that in no place or time during the execution of the program will the variable change. In order to do this, they are typcically given a specific address in memory. This is different to local variables which are stored on a stack and are accessed through a pointer. Local variables are subject to change in this way. Global variables typically take up more memory than local variables because of these differences. "
   ]
  },
  {
   "cell_type": "markdown",
   "id": "4682570b",
   "metadata": {},
   "source": [
    "**If you randomly pick on variable in an RBS program, under what condition can you decide it is a global one or a local one**\n",
    "\n",
    "Because of the difference between how global and local variables are stored, you can decide whether a variable is global based its address (if it is being stored in a static address in memory). The address must remain and be treated as static.\n"
   ]
  },
  {
   "cell_type": "markdown",
   "id": "43e427d0",
   "metadata": {},
   "source": [
    " **The translator uses NOP1 instructions. Any ideas why?**  \n",
    " \n",
    " The NOP instruction is an instruction that essentially does nothing. NOP1 is used in case there is no instruction after a label (in this case, t1). This will ensure the program is assembled correctly since its not guaranteed an instruction will follow after the label."
   ]
  },
  {
   "cell_type": "markdown",
   "id": "d8e76653",
   "metadata": {},
   "source": [
    "**Look at the code of translator.py**  \n",
    "**It relies on two visitors and two generators. Explain the role of each element.**\n",
    "<br> <br>\n",
    "In translator.py, we use two visitors and two generators. The visitor traverses the AST recursively to extract information. There are two visitors. The GlobalVariableExtraction class records the variable names (to allocate later in the generator). The TopLevelProgram class gives different assembly instructions depending on what node it visits.\n",
    "Generators are responsible for printing the instructions in PEP/9 assembly. You can also have backend generators for other assembly languages. The EntryPoint class generates the assembly instructions produced by the TopLevelProgram visitor. The StaticMemoryAllocation class reserves the memory for the variables visited by the GlobalVariableExtraction."
   ]
  },
  {
   "cell_type": "markdown",
   "id": "012988c8",
   "metadata": {},
   "source": [
    "**Explain the limitations of the current translation code in terms of software engineering.**  \n",
    "One limitation of the translation code is that it only works for Pep/9 so its very limited in terms of translatability. To overcome this, you can make a general translator interface so a class implementing that interface can be used to generate platform specific assembly.\n",
    "Another limitation is that because the output to assembly is printed instead of being written to a file, it becomes more difficult to debug the translator because if we were to print something (for debugging purposes), it would get mixed in with the printed output to assembly."
   ]
  },
  {
   "cell_type": "markdown",
   "id": "d70d511b",
   "metadata": {},
   "source": [
    "# F2: Allocation, Constants, and Symbols"
   ]
  },
  {
   "cell_type": "markdown",
   "id": "8c6f1c90",
   "metadata": {},
   "source": [
    "**For each improvement, explain in natural language how you extract (visit) the necessary inoformation form the AST, and how you translate (generate) it into Pep/9**"
   ]
  },
  {
   "cell_type": "markdown",
   "id": "45a2696d",
   "metadata": {},
   "source": [
    "**Memory Allocation / Constants**\n",
    "\n",
    "To improve memory allocation, we want to implement the canonical way of allcoating memory when the integer value is known where we would use `.WORD n` rather than using `.BLOCK 2` along with `LDWA` and `STWA` in the program. \n",
    "\n",
    "In order to differentiate the global variables during the memory allocation process, we altered `GlobalVariablesExtractor` to pass type `dict()` instead of a `set()` to the `StaticMemoryAllocation` class. The dictionary is structured with the node ids as the keys (this allows the unique entries property of `set()` to remain) and the item values as either the node's constant value (if the integer value of the variable is known) else a `None` type. `StaticMemoryAllocation` can then allocate either `.WORD n` or `.BLOCK 2` if the current node in `__global_vars` has a value or not.  \n",
    "We only do this when a variable is first encountered so that if the variable is set to a different value later on, it won't change the initial value.\n",
    "If there is a while loop we have a check `num_loops` to see how many while loops the assignment statement is in. If an assignment is in a while loop then we must do a load and store."
   ]
  },
  {
   "cell_type": "markdown",
   "id": "12558b8e",
   "metadata": {},
   "source": [
    "**Symbol Table**  \n",
    "\n",
    "In order to account for the limitation of PEP/9 symbols being limited to 8 characters, we are to account for this problem in our translator. We map every variable name to a corresponding unique identifier (a unique number) in the `TopLevelProgram` class to later use the unique identifier as a label for the assembly translation in the `StaticMemoryAllocation` class. This will ensure that every variable has a unique name so that we will not run into any problems such as the variables 'variable1' and 'variable2' having the same variable name in assembly (which would cause confusion)."
   ]
  },
  {
   "cell_type": "markdown",
   "id": "42a10552",
   "metadata": {},
   "source": [
    "**Compute “large” Fibonnaci or factorial numbers. Explain how overflows should be handled in a “real” programming language**  \n",
    "\n",
    "The 16 bit registers we use can store a decimal value of up to 32767. Past this, the signed 2's complement requires more bits and overflow would occur. This can result in the misrepresentation of values. For example, when attempting to represent 8! (= 40320), the output is misinterpreted as -25216 because of a missing 17th significant bit.\n",
    "\n",
    "In a \"real\" programming language, there would be some kind of flag implemented in the system that indicates whether or not overflow has occurred. This could be handled with a single bit (0 for no overflow, 1 for overflow) in a [system status register]. The system could use this flag to prompt some kind of solution to the overflow problem, or simply use it to signal an error.\n",
    "\n",
    "[system status register]: https://en.wikipedia.org/wiki/Overflow_flag"
   ]
  },
  {
   "cell_type": "markdown",
   "id": "f8b0229a",
   "metadata": {},
   "source": [
    "# F3: Conditionals"
   ]
  },
  {
   "cell_type": "code",
   "execution_count": null,
   "id": "a5a62a51",
   "metadata": {},
   "outputs": [],
   "source": [
    "# gcd.py\n",
    "         BR      program\n",
    "a:       .BLOCK  2\n",
    "b:       .BLOCK  2\n",
    "program: DECI    a, d\n",
    "         DECI    b, d\n",
    "test:    LDWA    a, d\n",
    "         CPWA    b, d\n",
    "         BREQ    end_w\n",
    "         LDWA    a, d\n",
    "         CPWA    b, d\n",
    "         BRLE    else\n",
    "if:      LDWA    a, d\n",
    "         SUBA    b, d\n",
    "         STWA    a, d\n",
    "         BR      end_if\n",
    "else:    LDWA    b, d\n",
    "         SUBA    a, d\n",
    "         STWA    b, d\n",
    "         BR      test\n",
    "end_w:   deco    a, d\n",
    "         .END"
   ]
  },
  {
   "cell_type": "markdown",
   "id": "eb281583",
   "metadata": {},
   "source": [
    "**Explain in natural language how you will automate the translation of conditionals, and how\n",
    "it impacts the visit and generation.**\n",
    "\n",
    "To automate the translation of conditionals, we altered visitors by adding a `visit_conditionals` function in the `TopLevelsProgram` class. If a conditional statement is recognized, a branch to the else body will be printed followed by the if body (which gets skipped if branched condition) and the else body. Both of which will end with a bramch statement to an `end_else_#` body which will conclude the conditional and return to the main body of the program. Similarly to how while loops are handled, each conditional block will be indentified using a conditional id to track which if/else/end_if blocks the program branches to. There are no changes to generators as there are no changes or additions to memory allocation to icnlude conditionals."
   ]
  },
  {
   "cell_type": "markdown",
   "id": "bbbc68ed",
   "metadata": {},
   "source": [
    "# F4: Function Calls"
   ]
  },
  {
   "cell_type": "markdown",
   "id": "6eba166e",
   "metadata": {},
   "source": [
    "**Rank Translation Complexity**  \n",
    "From easiest to hardest:\n",
    "1. call_void (no parameters and no return)\n",
    "2. call_param (parameters but no return)\n",
    "3. call_return (both parameters and return)\n",
    "4. fibonnaci (call_return but with more stuff)\n",
    "5. factorial (2 functions and 1 function has multiple parameters)\n",
    "6. fib_rec (fibonacci but recursive)\n",
    "7. factorial_rec (factorial but recursive)\n"
   ]
  },
  {
   "cell_type": "markdown",
   "id": "a81a5443",
   "metadata": {},
   "source": [
    "**Provide\tmanual\ttranslations for\tcall_param.py,\tcall_return.py\tand\tcall_void.py**"
   ]
  },
  {
   "cell_type": "code",
   "execution_count": null,
   "id": "5b92c1ce",
   "metadata": {},
   "outputs": [],
   "source": [
    "# call_param.py\n",
    "\n",
    "         BR      program \n",
    "UNIV:    .WORD   42\n",
    "value:   .BLOCK  2\n",
    "result:  .BLOCK  2\n",
    "func:    SUBSP   2,i\n",
    "         DECI    value,d\n",
    "         LDWA    value,d\n",
    "         ADDA    UNIV,d\n",
    "         STWA    result,s\n",
    "         DECO    result,s\n",
    "         ADDSP   2,i\n",
    "         RET\n",
    "program: CALL    func\n",
    "         .END"
   ]
  },
  {
   "cell_type": "code",
   "execution_count": null,
   "id": "beb37991",
   "metadata": {},
   "outputs": [],
   "source": [
    "# call_return.py\n",
    "\n",
    "         BR      program \n",
    "UNIV:    .WORD   42\n",
    "x:       .BLOCK  2\n",
    "result:  .EQUATE 0\n",
    "retval:  .EQUATE 4\n",
    "func:    SUBSP   2,i\n",
    "         STWA    result,s\n",
    "         LDWA    result,s\n",
    "         ADDA    x,d\n",
    "         ADDA    UNIV,d\n",
    "         STWA    result,s\n",
    "         LDWA    result,s\n",
    "         STWA    retval,s\n",
    "         ADDSP   2,i\n",
    "         RET\n",
    "program: DECI    x,d \n",
    "         SUBSP   2,i\n",
    "         CALL    func\n",
    "         LDWA    0,s\n",
    "         STWA    result,d\n",
    "         ADDSP   2,i\n",
    "         DECO    result,d\n",
    "         .END"
   ]
  },
  {
   "cell_type": "code",
   "execution_count": null,
   "id": "9b96cbc8",
   "metadata": {},
   "outputs": [],
   "source": [
    "# call_void.py\n",
    "\n",
    "  BR      program \n",
    "UNIV:    .WORD   42\n",
    "value:   .BLOCK  2\n",
    "result:  .BLOCK  2\n",
    "func:    SUBSP   2,i\n",
    "         DECI    value,d\n",
    "         LDWA    value,d\n",
    "         ADDA    UNIV,d\n",
    "         STWA    result,s\n",
    "         DECO    result,s\n",
    "         ADDSP   2,i\n",
    "         RET\n",
    "program: CALL    func\n",
    "         .END"
   ]
  },
  {
   "cell_type": "markdown",
   "id": "495f7b6a",
   "metadata": {},
   "source": [
    "**Explain\tin\tnatural\tlanguage\thow\tyou\twill\tautomate\tthe\ttranslation\tof\tfunction\tcalls,\tand\thow\t\n",
    "it\timpacts\tthe\tvisit\tand\tgeneration. Emphasize how\tthe\t“call-by-value” assumption\thelps\there**\n",
    "\n",
    "Parameters: Stored between return address and return value of the stack frame.\n",
    "\n",
    "Returns: Return value is at the bottom of the stack frame.\n",
    "\n",
    "Local variables: We must know how many local variables there are to set the offset of the stack pointer for the stack (e.g, if there're 3 local variables, subtract 6 bytes from the stack pointer).\n",
    "\n",
    "Recursion: If setup correctly, it will make another stackframe on top.\n",
    "\n",
    "When visiting, it must know the number of local variables to determine how big the stack frame should be. This applies to parameters too.\n",
    "When generating, the bytes determined when visiting is used to generate the subsp/addsp instructions required to allocate the variables on the stack.\n",
    "\n",
    "Call-by-value assumption helps us so that we don't have to use pointers. We make a copy of the value on the stack so pointers aren't required (pointers are required for call-by-reference)."
   ]
  },
  {
   "cell_type": "markdown",
   "id": "3f7121a3",
   "metadata": {},
   "source": [
    "**Code\t this\t new\t feature.\t You\t are\t free\t to modify\t the\t given\t code\t structure,\t e.g.,\t add\t new\t\n",
    "generators,\tvisitors, introduce\tnew\tclasses**\n",
    "\n",
    "We were unable to implement the feature into code but what we would've done is:\n",
    "\n",
    "Returns: Before calling a function, record the instruction for subsp 2 bytes to make space on the stack for the return value. After calling the function, the value is taken and put into the global variable it is assigned.\n",
    "\n",
    "Parameters: For each parameter, we subtract 2 bytes from the stack pointer before calling to make space for the parameters of the function. After a call, we add back the same number of bytes to the stack.\n",
    "\n",
    "Local Variables: write a function to count the number of local variables in each function by recursively traversing the AST and keeping a dictionary of unique variable names. For each local variable we subsp when entering the function and then when exiting the function, we addsp the local variable, before returning."
   ]
  },
  {
   "cell_type": "markdown",
   "id": "7bfc3510",
   "metadata": {},
   "source": [
    "**We\t do\t not\t provide\tany\t“stack\t overflow” mechanism.\tWhat\twill\t happen\tif\t such\ta\t situation\t\n",
    "happen\tin\ta program**  \n",
    "If we do not provide a stack overflow mechanism, then a program like Pep/9 will detect overflow is happening and terminate the program. Other programs like Java will throw an exception. If run in C, then it will crash due to accessing protected memory."
   ]
  },
  {
   "cell_type": "markdown",
   "id": "804b94c5",
   "metadata": {},
   "source": [
    "# F5: Arrays"
   ]
  },
  {
   "attachments": {},
   "cell_type": "markdown",
   "id": "95dc38b6",
   "metadata": {},
   "source": [
    "**Explain in natural language how you will automate the translation of global arrays, and how it impacts the visit and generation.**  \n",
    "**Explain in natural language how you will automate the translation of local arrays, and how it impacts the visit and generation**\n",
    "\n",
    "We need to do two things for automating the translation of arrays.\n",
    "\n",
    "Allocating: For global allocation, we would use the .Block directive to generate the size for the array. For local allocation, we take the number of bytes and subsp into the stack frame for our local variables. This impacts generation (and visiting) since we have to know the array size to make the block that size.\n",
    "\n",
    "Indexing: When indexing into an array, there are 3 steps:\n",
    "\n",
    "1. Computing the value of the subscript and load it into the X register.\n",
    "2. Shift the value in the x register left by 1 (multiplying by 2 to get the number of bytes to offset by)\n",
    "3. Access the memory using the indexed/stack-indexed addressing mode.\n",
    "This impacts visiting since we're implementing functionality to visit the subscripts. This impacts generation because of the different addressing mode we're using to visit the array.\n",
    "When visiting an array locally, we use sx instead of x (which is used for global arrays)."
   ]
  },
  {
   "attachments": {},
   "cell_type": "markdown",
   "id": "015ad593",
   "metadata": {},
   "source": [
    "**Code this new feature. You are free to modify the given code structure, e.g., add new generators, visitors, introduce new classes**\n",
    "\n",
    "We were unable to implement the feature into code but what we would've done is:\n",
    "\n",
    "For indexing, we would change the `__access_memory` method in `TopLevelProgram` by adding an if statement to see if the variable we're looking at is an array. If so, we use the X addressing mode (and SX addressing mode if the array is in a function). Visiting the subscript, we add the instructions LDWX (load into X) and ASLX (shift left by 1).\n",
    "\n",
    "For allocation, we visit binopp that multiply an array with a constant. The constant becomes the size of the array. We would then add into the `LocalMemoryAllocation` class where we would, depending on the size of the array, implement .Block of the number of bytes multiplied by the size of the array."
   ]
  },
  {
   "attachments": {},
   "cell_type": "markdown",
   "id": "4eec7f06",
   "metadata": {},
   "source": [
    "**The real python language handles lists/arrays in an non bounded way. Without doing it, can you envision how such unbounded data structure can be managed on a virtual machine like Pep/9**\n",
    "\n",
    "We allocate lists/arrays to the heap. This is so we can resize the lists/arrays without worrying about overriding other data in the program. If the lists/arrays on the heap runs into any other data on the heap, the lists/arrays memory's is then copied to another location on the heap. We access the memory on the heap by using a pointer stored on the stack. With the pointer, we also store 2 integers representing the size and capacity of the array. We access the heap using the indirect (n) and stack-relative deferred (sf) addressing modes."
   ]
  },
  {
   "cell_type": "markdown",
   "id": "217aefb9-4bf5-4975-9e18-95718b2c47ca",
   "metadata": {},
   "source": [
    "# Self-reflection questions"
   ]
  },
  {
   "cell_type": "markdown",
   "id": "3b20c32e",
   "metadata": {},
   "source": [
    "## Emma\n",
    "\n",
    "## How much did you know about the subject before we started? (backward)\n",
    "I knew some basic assembly knowledge from taking 2DA4 last year. We learned the use of some key words using ARM assembly code. I already had some understanding of how adding, subtracting and multiplying works in assembly. I had never used pep9 or even run programs in assembly code in general. \n",
    "\n",
    "## What did/do you find frustrating about this assignment? (inward)\n",
    "I found it frustrating to recall certain fundamental aspects of low-level programming needed to fully understand key parts of the lab. For example, it was difficult for me to understand when you should use words instead of blocks for certain memory allocations. I was most frustrated during the translations of function calls because I found the use of the stack between the different parts of the program hard to understand.\n",
    "\n",
    "\n",
    "## If you were the instructor, what comments would you make about this piece? (outward)\n",
    "If I were the instructor, I would commend us on finishing the work we were able to, and for the implementations we could not complete but still reported on. I would encourage next steps to be to ask for more assistance earlier on in the lab to we can get the knowledge we need to be able to complete the lab sooner.\n",
    "\n",
    "\n",
    "## What would you change if you had a chance to do this assignment over again? (forward)\n",
    "If I were to do this assignment again, I would dedicate more time to more resources such as help from the TAs or instructor or doing some more research on techniques/structures to use in order to complete  the implementations for function calls and arrays. "
   ]
  },
  {
   "attachments": {},
   "cell_type": "markdown",
   "id": "7cb1dd56",
   "metadata": {},
   "source": [
    "## Angela\n",
    "### How much did you know about the subject before we started? (backward)\n",
    "In terms of assembly, I learned the basics of it from 2DA4. We learned about ARM and used programs like Quartus to run it. However, there was a lot of basic concepts I forgot about and had to refresh myself on them through Google and previous textbooks. I did not recall learning much of the Visitor design pattern so I also had to research it. I was familiar with trees in 2C03 so that part of the lab I had some understanding of when looking at the code.\n",
    "\n",
    "### What did/do you find frustrating about this assignment? (inward)\n",
    "Relearning assembly was a big part that frustrated me as it took a lot of my lab time to understand it (e.g., the addressing modes, the formatting of assembly code, ARM vs. PEP/9, etc.). Also, while wanting to improve on this, I found it difficult to work on this lab incrementally between the 4-week time given to us because of other commitments from other classes. \n",
    "\n",
    "### If you were the instructor, what comments would you make about this piece? (outward)\n",
    "I would appreciate the organization of the report as well as the code. Though, for the code, I would point out that it could always continued to be better organized and also that some parts of implementation (implementation code from F4 and F5 is incomplete) and would look at the report for why this is the case, encouraging to try implementing even if it is incorrect.\n",
    "\n",
    "### What would you change if you had a chance to do this assignment over again? (forward)\n",
    "If I had a chance to redo this assignnent, I would like to take more time to relearn assembly and ask the TA for clarification on any tasks I was unsure about. I would also try to work on the lab incrementally, as purposed by the lab since we had 4 weeks to work on it. Also, I would, even if incorrect, try to implements F4 and F5 and then try to get help about why my code is not working and receive feedback on it from the TA/professor/online."
   ]
  }
 ],
 "metadata": {
  "kernelspec": {
   "display_name": "Python 3 (ipykernel)",
   "language": "python",
   "name": "python3"
  },
  "language_info": {
   "codemirror_mode": {
    "name": "ipython",
    "version": 3
   },
   "file_extension": ".py",
   "mimetype": "text/x-python",
   "name": "python",
   "nbconvert_exporter": "python",
   "pygments_lexer": "ipython3",
   "version": "3.10.7"
  },
  "vscode": {
   "interpreter": {
    "hash": "afb734500600fd355917ca529030176ea0ca205570884b88f2f6f7d791fd3fbe"
   }
  }
 },
 "nbformat": 4,
 "nbformat_minor": 5
}
